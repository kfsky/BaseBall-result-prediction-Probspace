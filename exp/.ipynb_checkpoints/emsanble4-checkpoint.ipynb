{
 "cells": [
  {
   "cell_type": "code",
   "execution_count": 1,
   "id": "liked-looking",
   "metadata": {},
   "outputs": [],
   "source": [
    "# アンサンブル用のipynbファイル\n",
    "\n",
    "import pandas as pd\n",
    "import numpy as np\n",
    "from scipy.stats import mode"
   ]
  },
  {
   "cell_type": "code",
   "execution_count": 2,
   "id": "packed-iceland",
   "metadata": {},
   "outputs": [],
   "source": [
    "# 実験ファイルを指定\n",
    "ems_1 = \"exp_91_\"#base\n",
    "ems_2 = \"exp_106_\"#train_seed\n",
    "ems_3 = \"exp_81_\"\n",
    "ems_4 = \"exp_104_\"#train_seed\n",
    "ems_5 = \"exp_102_\"#train_seed\n",
    "\n",
    "#保存するファイル名を指定\n",
    "output_name = \"ems_7_\"\n",
    "ems_df1 = pd.read_csv(ems_1+'submission.csv', index_col=0).rename(columns={\"y\":ems_1})\n",
    "ems_df2 = pd.read_csv(ems_2+'submission.csv', index_col=0).rename(columns={\"y\":ems_2})\n",
    "ems_df3 = pd.read_csv(ems_3+'submission.csv', index_col=0).rename(columns={\"y\":ems_3})\n",
    "ems_df4 = pd.read_csv(ems_4+'submission.csv', index_col=0).rename(columns={\"y\":ems_4})\n",
    "ems_df5 = pd.read_csv(ems_5+'submission.csv', index_col=0).rename(columns={\"y\":ems_5})\n",
    "\n",
    "ems_all_df = pd.concat([ems_df1, ems_df2,ems_df3,ems_df4,ems_df5],axis=1)"
   ]
  },
  {
   "cell_type": "code",
   "execution_count": 3,
   "id": "sized-generic",
   "metadata": {},
   "outputs": [
    {
     "data": {
      "text/plain": [
       "id\n",
       "0        4.0\n",
       "1        5.0\n",
       "2        2.0\n",
       "3        3.0\n",
       "4        0.0\n",
       "        ... \n",
       "33803    5.0\n",
       "33804    3.0\n",
       "33805    0.0\n",
       "33806    5.0\n",
       "33807    4.0\n",
       "Name: 0, Length: 33808, dtype: float64"
      ]
     },
     "execution_count": 3,
     "metadata": {},
     "output_type": "execute_result"
    }
   ],
   "source": [
    "ems_all_df.mode(axis=1)[0]"
   ]
  },
  {
   "cell_type": "code",
   "execution_count": 4,
   "id": "superior-donor",
   "metadata": {},
   "outputs": [],
   "source": [
    "ems_all_df[\"y\"] = ems_all_df.mode(axis=1)[0]"
   ]
  },
  {
   "cell_type": "code",
   "execution_count": 5,
   "id": "optical-festival",
   "metadata": {},
   "outputs": [],
   "source": [
    "submit_df = ems_all_df[\"y\"]"
   ]
  },
  {
   "cell_type": "code",
   "execution_count": 6,
   "id": "circular-hungary",
   "metadata": {},
   "outputs": [],
   "source": [
    "submit_df.to_csv(output_name+\"submission.csv\")"
   ]
  },
  {
   "cell_type": "code",
   "execution_count": 7,
   "id": "cosmetic-sheep",
   "metadata": {},
   "outputs": [
    {
     "data": {
      "text/plain": [
       "1.0    8381\n",
       "3.0    7094\n",
       "0.0    7090\n",
       "2.0    6823\n",
       "4.0    3894\n",
       "5.0     380\n",
       "7.0     142\n",
       "6.0       4\n",
       "Name: y, dtype: int64"
      ]
     },
     "execution_count": 7,
     "metadata": {},
     "output_type": "execute_result"
    }
   ],
   "source": [
    "submit_df.value_counts()"
   ]
  },
  {
   "cell_type": "code",
   "execution_count": null,
   "id": "going-prevention",
   "metadata": {},
   "outputs": [],
   "source": []
  }
 ],
 "metadata": {
  "kernelspec": {
   "display_name": "Python 3",
   "language": "python",
   "name": "python3"
  },
  "language_info": {
   "codemirror_mode": {
    "name": "ipython",
    "version": 3
   },
   "file_extension": ".py",
   "mimetype": "text/x-python",
   "name": "python",
   "nbconvert_exporter": "python",
   "pygments_lexer": "ipython3",
   "version": "3.6.13"
  }
 },
 "nbformat": 4,
 "nbformat_minor": 5
}
